{
 "cells": [
  {
   "cell_type": "markdown",
   "metadata": {},
   "source": [
    "#### $$\n",
    "\\hat \\theta = (X^T\\cdot X)^{-1}\\cdot X^T \\cdot y\n",
    "$$\n",
    "测试上面的这个表达是是否合理。"
   ]
  },
  {
   "cell_type": "code",
   "execution_count": 57,
   "metadata": {
    "ExecuteTime": {
     "end_time": "2018-03-04T06:44:07.453045Z",
     "start_time": "2018-03-04T06:44:07.412174Z"
    },
    "collapsed": true
   },
   "outputs": [],
   "source": [
    "from __future__ import division, print_function, unicode_literals\n",
    "import numpy as np\n",
    "import os\n",
    "\n",
    "np.random.seed(42) # 为了使得随机的数据稳定，选42是因为该数字是宇宙终极答案\n",
    "%matplotlib inline\n",
    "import matplotlib\n",
    "import matplotlib.pyplot as plt\n",
    "\n",
    "# 设置一些绘图参数\n",
    "plt.rcParams['axes.labelsize'] = 14\n",
    "plt.rcParams['xtick.labelsize'] = 12\n",
    "plt.rcParams['ytick.labelsize'] = 12\n",
    "\n",
    "# 设置保存图片地址\n",
    "PROJECT_ROOT_DIR = '.'\n",
    "CHAPTER_ID = 'training_linear_models'\n",
    "\n",
    "def save_fig(fig_id, tight_layout=True):\n",
    "    path = os.path.join(PROJECT_ROOT_DIR,'images',CHAPTER_ID, fig_id + '.png')\n",
    "    print('Saving figure', fig_id)\n",
    "    if tight_layout:\n",
    "        plt.tight_layout()\n",
    "    plt.savefig(path,format='png',dpi=300)"
   ]
  },
  {
   "cell_type": "code",
   "execution_count": 58,
   "metadata": {
    "ExecuteTime": {
     "end_time": "2018-03-04T06:44:07.466871Z",
     "start_time": "2018-03-04T06:44:07.459545Z"
    },
    "collapsed": true
   },
   "outputs": [],
   "source": [
    "# 准备数据\n",
    "X = 2 * np.random.rand(100,1) # 生成100行1列的随机浮点数\n",
    "y = 4 + 3 * X + np.random.randn(100,1) # 生成100行1列随机整数"
   ]
  },
  {
   "cell_type": "code",
   "execution_count": 59,
   "metadata": {
    "ExecuteTime": {
     "end_time": "2018-03-04T06:44:07.711095Z",
     "start_time": "2018-03-04T06:44:07.470983Z"
    }
   },
   "outputs": [
    {
     "data": {
      "text/plain": [
       "[<matplotlib.lines.Line2D at 0x1118d5828>]"
      ]
     },
     "execution_count": 59,
     "metadata": {},
     "output_type": "execute_result"
    },
    {
     "data": {
      "image/png": "[encoded data removed]",
      "text/plain": [
       "<matplotlib.figure.Figure at 0x111bf2e10>"
      ]
     },
     "metadata": {},
     "output_type": "display_data"
    }
   ],
   "source": [
    "# 绘制图片\n",
    "plt.plot(X,y,'b.') # 散点"
   ]
  },
  {
   "cell_type": "code",
   "execution_count": 60,
   "metadata": {
    "ExecuteTime": {
     "end_time": "2018-03-04T06:44:08.698702Z",
     "start_time": "2018-03-04T06:44:07.714787Z"
    }
   },
   "outputs": [
    {
     "name": "stdout",
     "output_type": "stream",
     "text": [
      "Saving figure generated_data_plot\n"
     ]
    },
    {
     "data": {
      "image/png": "[encoded data removed]",
      "text/plain": [
       "<matplotlib.figure.Figure at 0x1118d5eb8>"
      ]
     },
     "metadata": {},
     "output_type": "display_data"
    }
   ],
   "source": [
    "plt.plot(X,y,'b.')\n",
    "plt.xlabel('$x_1$',fontsize=18)\n",
    "plt.ylabel('$y$',fontsize=18,rotation=0)\n",
    "plt.axis([0,2,0,15]) # 横轴范围是0-2，竖轴范围是0-15\n",
    "\n",
    "save_fig('generated_data_plot')"
   ]
  },
  {
   "cell_type": "code",
   "execution_count": 61,
   "metadata": {
    "ExecuteTime": {
     "end_time": "2018-03-04T06:44:08.715250Z",
     "start_time": "2018-03-04T06:44:08.701864Z"
    },
    "collapsed": true
   },
   "outputs": [],
   "source": [
    "X_b = np.c_[np.ones((100,1)), X] # 将bias加入到矩阵, add x_0 = 1 to each instance\n",
    "theta_best = np.linalg.inv(X_b.T.dot(X_b)).dot(X_b.T).dot(y)"
   ]
  },
  {
   "cell_type": "code",
   "execution_count": 62,
   "metadata": {
    "ExecuteTime": {
     "end_time": "2018-03-04T06:44:08.729255Z",
     "start_time": "2018-03-04T06:44:08.718786Z"
    }
   },
   "outputs": [
    {
     "data": {
      "text/plain": [
       "array([[ 4.21509616],\n",
       "       [ 2.77011339]])"
      ]
     },
     "execution_count": 62,
     "metadata": {},
     "output_type": "execute_result"
    }
   ],
   "source": [
    "theta_best # 直接计算出来最优参数后，就得到拟合直线的表达式了"
   ]
  },
  {
   "cell_type": "code",
   "execution_count": 63,
   "metadata": {
    "ExecuteTime": {
     "end_time": "2018-03-04T06:44:08.743256Z",
     "start_time": "2018-03-04T06:44:08.732210Z"
    },
    "collapsed": true
   },
   "outputs": [],
   "source": [
    "X_new = np.array([[0],[2]])\n",
    "X_new_b = np.c_[np.ones((2,1)),X_new] # add x_0 = 1 to each instance\n",
    "y_predict = X_new_b.dot(theta_best)"
   ]
  },
  {
   "cell_type": "code",
   "execution_count": 64,
   "metadata": {
    "ExecuteTime": {
     "end_time": "2018-03-04T06:44:08.753370Z",
     "start_time": "2018-03-04T06:44:08.745341Z"
    }
   },
   "outputs": [
    {
     "data": {
      "text/plain": [
       "array([[ 4.21509616],\n",
       "       [ 9.75532293]])"
      ]
     },
     "execution_count": 64,
     "metadata": {},
     "output_type": "execute_result"
    }
   ],
   "source": [
    "y_predict"
   ]
  },
  {
   "cell_type": "code",
   "execution_count": 65,
   "metadata": {
    "ExecuteTime": {
     "end_time": "2018-03-04T06:44:08.938458Z",
     "start_time": "2018-03-04T06:44:08.757590Z"
    }
   },
   "outputs": [
    {
     "data": {
      "image/png": "[encoded data removed]",
      "text/plain": [
       "<matplotlib.figure.Figure at 0x1092dbc50>"
      ]
     },
     "metadata": {},
     "output_type": "display_data"
    }
   ],
   "source": [
    "# 画图\n",
    "plt.plot(X_new, y_predict,'r-')\n",
    "plt.plot(X,y,'b.')\n",
    "plt.axis([0,2,0,15])\n",
    "plt.show()"
   ]
  },
  {
   "cell_type": "code",
   "execution_count": 66,
   "metadata": {
    "ExecuteTime": {
     "end_time": "2018-03-04T06:44:09.779073Z",
     "start_time": "2018-03-04T06:44:08.947355Z"
    }
   },
   "outputs": [
    {
     "name": "stdout",
     "output_type": "stream",
     "text": [
      "Saving figure linear_model_preditions\n"
     ]
    },
    {
     "data": {
      "image/png": "[encoded data removed]",
      "text/plain": [
       "<matplotlib.figure.Figure at 0x107ce8f28>"
      ]
     },
     "metadata": {},
     "output_type": "display_data"
    }
   ],
   "source": [
    "# 优化一些的画法\n",
    "plt.plot(X_new, y_predict,'r-',linewidth=2,label='Predictions')\n",
    "plt.plot(X,y,'b.')\n",
    "plt.axis([0,2,0,15])\n",
    "\n",
    "plt.xlabel('$x_1$',fontsize=18)\n",
    "plt.ylabel('$y$',fontsize=18,rotation=0)\n",
    "save_fig('linear_model_preditions')\n",
    "plt.legend(loc='upper left', fontsize=14)\n",
    "plt.show()"
   ]
  },
  {
   "cell_type": "markdown",
   "metadata": {},
   "source": [
    "### 上面的算法是自己手动实现的，可以直接用sklearn包提供的实现方法。"
   ]
  },
  {
   "cell_type": "code",
   "execution_count": 67,
   "metadata": {
    "ExecuteTime": {
     "end_time": "2018-03-04T06:44:09.791400Z",
     "start_time": "2018-03-04T06:44:09.782236Z"
    }
   },
   "outputs": [
    {
     "data": {
      "text/plain": [
       "(array([ 4.21509616]), array([[ 2.77011339]]))"
      ]
     },
     "execution_count": 67,
     "metadata": {},
     "output_type": "execute_result"
    }
   ],
   "source": [
    "from sklearn.linear_model import LinearRegression\n",
    "lin_reg = LinearRegression()\n",
    "lin_reg.fit(X,y) # 拟合\n",
    "lin_reg.intercept_, lin_reg.coef_"
   ]
  },
  {
   "cell_type": "code",
   "execution_count": 68,
   "metadata": {
    "ExecuteTime": {
     "end_time": "2018-03-04T06:44:09.804333Z",
     "start_time": "2018-03-04T06:44:09.795400Z"
    }
   },
   "outputs": [
    {
     "data": {
      "text/plain": [
       "array([[ 4.21509616],\n",
       "       [ 9.75532293]])"
      ]
     },
     "execution_count": 68,
     "metadata": {},
     "output_type": "execute_result"
    }
   ],
   "source": [
    "lin_reg.predict(X_new)"
   ]
  },
  {
   "cell_type": "markdown",
   "metadata": {},
   "source": [
    "小结：这种解析法需要求解矩阵的逆，当n较小时还可行，一旦n很大时，计算复杂度就很大，变得不再可行。"
   ]
  },
  {
   "cell_type": "markdown",
   "metadata": {},
   "source": [
    "### 基于批梯度下降的线性回归\n",
    "\n",
    "梯度下降是适用多种问题的通用的求解优化问题的算法。大致的想法是：通过迭代调优参数，直到能够最小化损失函数。\n",
    "\n",
    "对于一个递增的函数图像，求得的梯度是正的，递减的函数梯度是负的。梯度下降就是使得参数往梯度降低的方向走，为什么可以得到局部最优解，有详细的数学论证，但我们先不用管。\n",
    "\n",
    "偏导数：为了使用梯度下降，需要计算出损失函数对每个参数的梯度。也就是说需要计算出改变参数$\\theta_i$,损失函数的改变量。\n",
    "\n",
    "损失函数是关于参数变量的方程，我总是纠结于用多少样本来计算实际的梯度值，而忽略了一步一步看得话，先得到损失函数对参数的梯度的表达式，其次才来想如何得到实际的值。**参数有初始值，再得到梯度的实际值就可以更新参数。**\n",
    "\n",
    "关于梯度的计算这里详细展开：\n",
    "\n",
    "$$\n",
    "MSE(\\theta) = \\frac{1}{m} \\sum_{i=1}^m(\\theta^T\\cdot x^{(i)} - y^{(i)})^2\n",
    "$$\n",
    "\n",
    "那么对于参数$\\theta_j$的偏导数就是：\n",
    "\n",
    "$$\n",
    "\\frac{\\partial MSE(\\theta)}{\\partial \\theta_j} = \\frac{2}{m} \\sum_{i=1}^m(\\theta^T\\cdot x^{(i)} - y^{(i)})\\cdot x^{(i)}\n",
    "$$\n",
    "\n",
    "一个参数的偏导数的求法知道了，其他的偏导数同样可以计算，在Numpy掌控的领域，不用向量化计算肯定很浪费。所以我们想到用梯度向量，一次性得到每个参数的梯度。\n",
    "\n",
    "$$\n",
    "\\bigtriangledown_\\theta MSE(\\theta) = \\frac{2}{m}X^T\\cdot(X\\cdot \\theta - y)\n",
    "$$\n",
    "\n",
    "更新的形式是：\n",
    "\n",
    "$$\n",
    "\\theta^{(next\\ step)} = \\theta - \\eta \\bigtriangledown_\\theta MSE(\\theta)\n",
    "$$\n",
    "\n",
    "列向量的形式.\n"
   ]
  },
  {
   "cell_type": "markdown",
   "metadata": {
    "collapsed": true
   },
   "source": [
    "### Batch的含义\n",
    "\n",
    "这个Batch，实际上指代的是整个训练集。从上面的梯度向量表达式来看，大$X$表示的是训练集全部。这就意味着一次梯度下降的计算要牵涉到全部的训练集，但也要注意，训练不是说一次就结束了，要重复这个步骤，带来的问题是，既然是重复，为什么每次都可以更新呢？\n",
    "\n",
    "现在考虑另一个问题，就是每步的梯度下降都牵涉到全部的训练集，就必然导致训练很慢，尤其是当训练集很大的情况下。"
   ]
  },
  {
   "cell_type": "code",
   "execution_count": 69,
   "metadata": {
    "ExecuteTime": {
     "end_time": "2018-03-04T06:44:09.822809Z",
     "start_time": "2018-03-04T06:44:09.807170Z"
    },
    "collapsed": true
   },
   "outputs": [],
   "source": [
    "eta = 0.1 # 学习率\n",
    "n_iterations = 1000\n",
    "m = 100 # 样本量\n",
    "\n",
    "theta = np.random.randn(2,1) # 参数值先随机初始化\n",
    "\n",
    "for iteration in range(n_iterations):\n",
    "    gradients = 2 / m * X_b.T.dot(X_b.dot(theta) - y)\n",
    "    theta -= eta * gradients # 更新参数"
   ]
  },
  {
   "cell_type": "code",
   "execution_count": 70,
   "metadata": {
    "ExecuteTime": {
     "end_time": "2018-03-04T06:44:09.836766Z",
     "start_time": "2018-03-04T06:44:09.825281Z"
    }
   },
   "outputs": [
    {
     "data": {
      "text/plain": [
       "array([[ 4.21509616],\n",
       "       [ 2.77011339]])"
      ]
     },
     "execution_count": 70,
     "metadata": {},
     "output_type": "execute_result"
    }
   ],
   "source": [
    "theta"
   ]
  },
  {
   "cell_type": "code",
   "execution_count": 71,
   "metadata": {
    "ExecuteTime": {
     "end_time": "2018-03-04T06:44:09.850999Z",
     "start_time": "2018-03-04T06:44:09.844241Z"
    }
   },
   "outputs": [
    {
     "data": {
      "text/plain": [
       "array([[ 4.21509616],\n",
       "       [ 9.75532293]])"
      ]
     },
     "execution_count": 71,
     "metadata": {},
     "output_type": "execute_result"
    }
   ],
   "source": [
    "X_new_b.dot(theta)"
   ]
  },
  {
   "cell_type": "code",
   "execution_count": 72,
   "metadata": {
    "ExecuteTime": {
     "end_time": "2018-03-04T06:44:09.867014Z",
     "start_time": "2018-03-04T06:44:09.854490Z"
    }
   },
   "outputs": [
    {
     "data": {
      "text/plain": [
       "(100, 1)"
      ]
     },
     "execution_count": 72,
     "metadata": {},
     "output_type": "execute_result"
    }
   ],
   "source": [
    "X.shape"
   ]
  },
  {
   "cell_type": "code",
   "execution_count": 73,
   "metadata": {
    "ExecuteTime": {
     "end_time": "2018-03-04T06:44:09.884816Z",
     "start_time": "2018-03-04T06:44:09.869517Z"
    },
    "collapsed": true
   },
   "outputs": [],
   "source": [
    "theta_path_bgd = []\n",
    "\n",
    "def plot_gradient_descent(theta, eta, theta_path=None):\n",
    "    m = len(X_b)\n",
    "    plt.plot(X,y,'b.')\n",
    "    n_iterations = 1000\n",
    "    \n",
    "    for iteration in range(n_iterations):\n",
    "        if iteration < 10:\n",
    "            y_predict = X_new_b.dot(theta)\n",
    "            style = \"b-\" if iteration > 0 else \"r--\"\n",
    "            plt.plot(X_new, y_predict, style)\n",
    "            \n",
    "        gradients = 2/m * X_b.T.dot(X_b.dot(theta) - y)\n",
    "        theta = theta - eta * gradients\n",
    "        if theta_path is not None:\n",
    "            theta_path.append(theta)\n",
    "    plt.xlabel(\"$x_1$\", fontsize=18)\n",
    "    plt.axis([0, 2, 0, 15])\n",
    "    plt.title(r\"$\\eta = {}$\".format(eta), fontsize=16)\n",
    "    "
   ]
  },
  {
   "cell_type": "code",
   "execution_count": 74,
   "metadata": {
    "ExecuteTime": {
     "end_time": "2018-03-04T06:44:11.616728Z",
     "start_time": "2018-03-04T06:44:09.887318Z"
    }
   },
   "outputs": [
    {
     "name": "stdout",
     "output_type": "stream",
     "text": [
      "Saving figure gradient_descent_plot\n"
     ]
    },
    {
     "data": {
      "image/png": "[encoded data removed]",
      "text/plain": [
       "<matplotlib.figure.Figure at 0x107686c50>"
      ]
     },
     "metadata": {},
     "output_type": "display_data"
    }
   ],
   "source": [
    "np.random.seed(42)\n",
    "theta = np.random.randn(2,1)  # random initialization\n",
    "\n",
    "plt.figure(figsize=(10,4))\n",
    "plt.subplot(131); plot_gradient_descent(theta, eta=0.02)\n",
    "plt.ylabel(\"$y$\", rotation=0, fontsize=18)\n",
    "plt.subplot(132); plot_gradient_descent(theta, eta=0.1, theta_path=theta_path_bgd)\n",
    "plt.subplot(133); plot_gradient_descent(theta, eta=0.5)\n",
    "\n",
    "save_fig(\"gradient_descent_plot\")\n",
    "plt.show()"
   ]
  },
  {
   "cell_type": "markdown",
   "metadata": {},
   "source": [
    "左图显示学习率偏小时，虽然能够得到答案但是耗时很长，走得很小心。\n",
    "中间是学习率大小比较合适的，收敛到结果的速度较快。\n",
    "而右边学习率太大，跳来跳去，不能收敛到正确答案上来。\n",
    "\n",
    "#### 如何选择合适的学习率呢？\n",
    "\n",
    "做法是用网格搜索法，也就是慢慢尝试。\n",
    "\n",
    "另一个问题是如何设定迭代次数呢？设置小了，没到收敛就结束了肯定不行，而设置得太大了，浪费计算资源，因为到后面基本不会再有变化了。\n",
    "\n",
    "合理的做法是，把迭代次数设置的大一些。然后设置一个参数：$\\epsilon$,表示tolerance,当梯度下降足够接近最优解时就停止。"
   ]
  },
  {
   "cell_type": "markdown",
   "metadata": {},
   "source": [
    "### 随机梯度下降\n",
    "\n",
    "针对前面提到的问题，批梯度下降用到了全部的训练集导致的训练太慢。随机梯度下降就是一种比较好的解决方案。\n",
    "\n",
    "随机梯度下降的思想就是：每一步迭代只从训练集中随机选择一个样本，基于这个样本值来计算梯度向量。\n",
    "\n",
    "优势是快，但是缺点也很明显，就是逼近最优解的过程是振荡的，没有批梯度下降那么平滑。等到逼近最优解时，仍然振荡，且不会稳定。也就是说SGD法并不能得到最优，而是一个不错的解。\n",
    "\n",
    "但是又因为不稳定，SGD算法能够有更大的机会近似全局最优，不会受困于局部最优解。\n",
    "\n",
    "前面我们看到，控制学习率的大小能够影响逼近的速度，那么，在SGD算法中，渐渐调小学习率就是个不错的解决方法。\n",
    "\n",
    "从学习率这个维度限制了SGD蹦蹦跳跳的空间，使得它能够安定在最优解上。\n",
    "\n",
    "这个过程称之为**模拟退火**。控制学习率变化的函数称之为learning schedule. 如果学习率降得过快，那么就会陷入局部最优，如果降得太慢，算法就会在最优解附近震荡。"
   ]
  },
  {
   "cell_type": "code",
   "execution_count": 75,
   "metadata": {
    "ExecuteTime": {
     "end_time": "2018-03-04T06:44:11.625566Z",
     "start_time": "2018-03-04T06:44:11.619647Z"
    },
    "collapsed": true
   },
   "outputs": [],
   "source": [
    "theta_path_sgd = []\n",
    "m = len(X_b)\n",
    "np.random.seed(42)"
   ]
  },
  {
   "cell_type": "code",
   "execution_count": 76,
   "metadata": {
    "ExecuteTime": {
     "end_time": "2018-03-04T06:44:11.939937Z",
     "start_time": "2018-03-04T06:44:11.628416Z"
    }
   },
   "outputs": [
    {
     "data": {
      "image/png": "[encoded data removed]",
      "text/plain": [
       "<matplotlib.figure.Figure at 0x107c7de48>"
      ]
     },
     "metadata": {},
     "output_type": "display_data"
    }
   ],
   "source": [
    "n_epoches = 50\n",
    "t0, t1 = 5,50 # learning schedule 超参数\n",
    "\n",
    "def learning_schedule(t):\n",
    "    return t0 / (t + t1)\n",
    "\n",
    "theta = np.random.randn(2,1)\n",
    "\n",
    "for epoch in range(n_epoches):\n",
    "    for i in range(m): # 每次随机选择一个样本\n",
    "        if epoch == 0 and i < 20:                    # not shown in the book\n",
    "            y_predict = X_new_b.dot(theta)           # not shown\n",
    "            style = \"b-\" if i > 0 else \"r--\"         # not shown\n",
    "            plt.plot(X_new, y_predict, style)        # not shown\n",
    "        random_index = np.random.randint(m)\n",
    "        xi = X_b[random_index:random_index + 1]\n",
    "        yi = y[random_index:random_index +  1]\n",
    "        gradients = 2 * xi.T.dot(xi.dot(theta) - yi)\n",
    "        eta = learning_schedule(epoch * m + i)\n",
    "        theta -= eta * gradients\n",
    "        theta_path_sgd.append(theta) \n",
    "        "
   ]
  },
  {
   "cell_type": "code",
   "execution_count": null,
   "metadata": {
    "collapsed": true
   },
   "outputs": [],
   "source": []
  },
  {
   "cell_type": "code",
   "execution_count": 77,
   "metadata": {
    "ExecuteTime": {
     "end_time": "2018-03-04T06:44:11.952158Z",
     "start_time": "2018-03-04T06:44:11.943359Z"
    }
   },
   "outputs": [
    {
     "data": {
      "text/plain": [
       "array([[ 4.21076011],\n",
       "       [ 2.74856079]])"
      ]
     },
     "execution_count": 77,
     "metadata": {},
     "output_type": "execute_result"
    }
   ],
   "source": [
    "theta"
   ]
  },
  {
   "cell_type": "code",
   "execution_count": 78,
   "metadata": {
    "ExecuteTime": {
     "end_time": "2018-03-04T06:44:11.963829Z",
     "start_time": "2018-03-04T06:44:11.954961Z"
    }
   },
   "outputs": [
    {
     "data": {
      "text/plain": [
       "SGDRegressor(alpha=0.0001, average=False, epsilon=0.1, eta0=0.1,\n",
       "       fit_intercept=True, l1_ratio=0.15, learning_rate='invscaling',\n",
       "       loss='squared_loss', n_iter=50, penalty=None, power_t=0.25,\n",
       "       random_state=None, shuffle=True, verbose=0, warm_start=False)"
      ]
     },
     "execution_count": 78,
     "metadata": {},
     "output_type": "execute_result"
    }
   ],
   "source": [
    "# 通过调用sklearn包的方式\n",
    "from sklearn.linear_model import SGDRegressor\n",
    "sgd_reg = SGDRegressor(n_iter=50, penalty=None,eta0=0.1)\n",
    "sgd_reg.fit(X,y.ravel())"
   ]
  },
  {
   "cell_type": "code",
   "execution_count": 79,
   "metadata": {
    "ExecuteTime": {
     "end_time": "2018-03-04T06:44:11.972556Z",
     "start_time": "2018-03-04T06:44:11.966612Z"
    }
   },
   "outputs": [
    {
     "data": {
      "text/plain": [
       "(array([ 4.23166744]), array([ 2.79099659]))"
      ]
     },
     "execution_count": 79,
     "metadata": {},
     "output_type": "execute_result"
    }
   ],
   "source": [
    "sgd_reg.intercept_, sgd_reg.coef_"
   ]
  },
  {
   "cell_type": "markdown",
   "metadata": {},
   "source": [
    "### Mini-batch梯度下降\n",
    "\n",
    "在理解了批梯度下降和随机梯度下降的基础上，这部分内容很好学。\n",
    "\n",
    "小总结一下就是：\n",
    "\n",
    "- 批梯度下降：计算一次梯度用到全部的训练集\n",
    "- 随机梯度下降：计算一次梯度用一个随机的样本\n",
    "- mini-batch梯度下降：计算一次梯度用随机的一部分样本\n",
    "\n",
    "相比于SGS,nimi-batch GD的好处是性能更佳。"
   ]
  },
  {
   "cell_type": "code",
   "execution_count": 80,
   "metadata": {
    "ExecuteTime": {
     "end_time": "2018-03-04T06:44:11.997406Z",
     "start_time": "2018-03-04T06:44:11.975351Z"
    },
    "collapsed": true
   },
   "outputs": [],
   "source": [
    "# 通过代码可以看出三个的训练过程对比\n",
    "theta_path_mgd = []\n",
    "n_iterations = 50\n",
    "minibatch_size = 20 \n",
    "\n",
    "np.random.seed(42)\n",
    "theta = np.random.randn(2,1)\n",
    "\n",
    "t0, t1 = 10, 1000\n",
    "def learning_schedule(t):\n",
    "    return t0 / (t + t1) # 模拟退火\n",
    "\n",
    "t = 0\n",
    "for epoch in range(n_iterations):\n",
    "    shuffled_indices = np.random.permutation(m)\n",
    "    X_b_shuffled = X_b[shuffled_indices] # 随机打乱\n",
    "    y_shuffled = y[shuffled_indices]\n",
    "    \n",
    "    for i in range(0,m,minibatch_size): # 第三个参数是步长,也意味着选择minibatch_size个参数\n",
    "        t += 1\n",
    "        xi = X_b_shuffled[i:i+minibatch_size]\n",
    "        yi = y_shuffled[i:i+minibatch_size]\n",
    "        gradients = 2 * xi.T.dot(xi.dot(theta) - yi)\n",
    "        eta = learning_schedule(t)\n",
    "        theta -= eta * gradients\n",
    "        theta_path_mgd.append(theta)\n"
   ]
  },
  {
   "cell_type": "code",
   "execution_count": 81,
   "metadata": {
    "ExecuteTime": {
     "end_time": "2018-03-04T06:44:12.006620Z",
     "start_time": "2018-03-04T06:44:11.999553Z"
    }
   },
   "outputs": [
    {
     "data": {
      "text/plain": [
       "array([[ 4.25214635],\n",
       "       [ 2.7896408 ]])"
      ]
     },
     "execution_count": 81,
     "metadata": {},
     "output_type": "execute_result"
    }
   ],
   "source": [
    "theta"
   ]
  },
  {
   "cell_type": "code",
   "execution_count": 84,
   "metadata": {
    "ExecuteTime": {
     "end_time": "2018-03-04T06:47:12.197073Z",
     "start_time": "2018-03-04T06:47:11.085640Z"
    }
   },
   "outputs": [
    {
     "name": "stdout",
     "output_type": "stream",
     "text": [
      "Saving figure gradient_descent_paths_plot\n"
     ]
    },
    {
     "data": {
      "image/png": "[encoded data removed]",
      "text/plain": [
       "<matplotlib.figure.Figure at 0x111ac4940>"
      ]
     },
     "metadata": {},
     "output_type": "display_data"
    }
   ],
   "source": [
    "theta_path_bgd = np.array(theta_path_bgd)\n",
    "theta_path_sgd = np.array(theta_path_sgd)\n",
    "theta_path_mgd = np.array(theta_path_mgd)\n",
    "\n",
    "plt.figure(figsize=(7,4))\n",
    "plt.plot(theta_path_sgd[:, 0], theta_path_sgd[:, 1], \"r-s\", linewidth=1, label=\"Stochastic\")\n",
    "plt.plot(theta_path_mgd[:, 0], theta_path_mgd[:, 1], \"g-+\", linewidth=2, label=\"Mini-batch\")\n",
    "plt.plot(theta_path_bgd[:, 0], theta_path_bgd[:, 1], \"b-o\", linewidth=3, label=\"Batch\")\n",
    "plt.legend(loc=\"upper left\", fontsize=16)\n",
    "plt.xlabel(r\"$\\theta_0$\", fontsize=20)\n",
    "plt.ylabel(r\"$\\theta_1$   \", fontsize=20, rotation=0)\n",
    "plt.axis([2.5, 4.5, 2.3, 3.9])\n",
    "save_fig(\"gradient_descent_paths_plot\")\n",
    "plt.show()\n"
   ]
  },
  {
   "cell_type": "markdown",
   "metadata": {},
   "source": [
    "上面这个没有画出随机梯度下降和mibi-batch梯度下降的状态。暂时未debug."
   ]
  },
  {
   "cell_type": "markdown",
   "metadata": {},
   "source": [
    "**训练完毕之后的步骤就没什么不同了，就是模型得到以后，就是用模型。使用方法是一样的。**"
   ]
  },
  {
   "cell_type": "markdown",
   "metadata": {},
   "source": [
    "### 多项式回归\n",
    "\n",
    "用线性模型来模拟非线性数据。\n",
    "\n",
    "以实例来解释。"
   ]
  },
  {
   "cell_type": "code",
   "execution_count": 86,
   "metadata": {
    "ExecuteTime": {
     "end_time": "2018-03-04T12:34:07.425938Z",
     "start_time": "2018-03-04T12:34:07.416869Z"
    }
   },
   "outputs": [],
   "source": [
    "import numpy as np\n",
    "import numpy.random as rnd # 简化，随机数生成很常用\n",
    "\n",
    "np.random.seed(42)"
   ]
  },
  {
   "cell_type": "code",
   "execution_count": 87,
   "metadata": {
    "ExecuteTime": {
     "end_time": "2018-03-04T12:35:02.901165Z",
     "start_time": "2018-03-04T12:35:02.886717Z"
    },
    "collapsed": true
   },
   "outputs": [],
   "source": [
    "m = 100\n",
    "X = 6 * rnd.rand(m,1) - 3\n",
    "y = 0.5 * X**2 + X + 2 + rnd.randn(m,1)"
   ]
  },
  {
   "cell_type": "code",
   "execution_count": 88,
   "metadata": {
    "ExecuteTime": {
     "end_time": "2018-03-04T12:35:07.268229Z",
     "start_time": "2018-03-04T12:35:07.249862Z"
    }
   },
   "outputs": [
    {
     "data": {
      "text/plain": [
       "(100, 1)"
      ]
     },
     "execution_count": 88,
     "metadata": {},
     "output_type": "execute_result"
    }
   ],
   "source": [
    "X.shape"
   ]
  },
  {
   "cell_type": "code",
   "execution_count": 90,
   "metadata": {
    "ExecuteTime": {
     "end_time": "2018-03-04T12:37:28.393979Z",
     "start_time": "2018-03-04T12:37:27.556713Z"
    }
   },
   "outputs": [
    {
     "name": "stdout",
     "output_type": "stream",
     "text": [
      "Saving figure quadratic_data_plot\n"
     ]
    },
    {
     "data": {
      "image/png": "[encoded data removed]",
      "text/plain": [
       "<matplotlib.figure.Figure at 0x111adc7b8>"
      ]
     },
     "metadata": {},
     "output_type": "display_data"
    }
   ],
   "source": [
    "# 画出来看看\n",
    "plt.plot(X,y,'b.')\n",
    "plt.xlabel('$x_1$', fontsize=18)\n",
    "plt.ylabel('$y$',rotation=0,fontsize=18)\n",
    "plt.axis([-3,3,0,10]) # 设定两个轴的显示范围\n",
    "save_fig('quadratic_data_plot')\n",
    "plt.show()"
   ]
  },
  {
   "cell_type": "markdown",
   "metadata": {},
   "source": [
    "这种数据显然是无法通过线性模型来拟合的。先用调包的方式来拟合试试看。"
   ]
  },
  {
   "cell_type": "code",
   "execution_count": 91,
   "metadata": {
    "ExecuteTime": {
     "end_time": "2018-03-04T12:40:19.050380Z",
     "start_time": "2018-03-04T12:40:19.035909Z"
    }
   },
   "outputs": [
    {
     "data": {
      "text/plain": [
       "array([-0.75275929])"
      ]
     },
     "execution_count": 91,
     "metadata": {},
     "output_type": "execute_result"
    }
   ],
   "source": [
    "from sklearn.preprocessing import PolynomialFeatures  # 通过这个包来处理我们的数据\n",
    "poly_features = PolynomialFeatures(degree=2, include_bias=False) # 度为2，表示拟合的模型是二次方程\n",
    "X_poly = poly_features.fit_transform(X)\n",
    "X[0]"
   ]
  },
  {
   "cell_type": "code",
   "execution_count": 92,
   "metadata": {
    "ExecuteTime": {
     "end_time": "2018-03-04T12:42:13.415757Z",
     "start_time": "2018-03-04T12:42:13.391856Z"
    }
   },
   "outputs": [
    {
     "data": {
      "text/plain": [
       "(array([ 1.78134581]), array([[ 0.93366893,  0.56456263]]))"
      ]
     },
     "execution_count": 92,
     "metadata": {},
     "output_type": "execute_result"
    }
   ],
   "source": [
    "lin_reg = LinearRegression()\n",
    "lin_reg.fit(X_poly,y)\n",
    "lin_reg.intercept_,lin_reg.coef_"
   ]
  },
  {
   "cell_type": "code",
   "execution_count": 94,
   "metadata": {
    "ExecuteTime": {
     "end_time": "2018-03-04T12:46:29.416266Z",
     "start_time": "2018-03-04T12:46:28.529985Z"
    }
   },
   "outputs": [
    {
     "name": "stdout",
     "output_type": "stream",
     "text": [
      "Saving figure quadratic_predictions_plot\n"
     ]
    },
    {
     "data": {
      "image/png": "[encoded data removed]",
      "text/plain": [
       "<matplotlib.figure.Figure at 0x111adc320>"
      ]
     },
     "metadata": {},
     "output_type": "display_data"
    }
   ],
   "source": [
    "# 画图\n",
    "X_new = np.linspace(-3,3,100).reshape(100,1)\n",
    "X_new_poly = poly_features.transform(X_new)\n",
    "y_new = lin_reg.predict(X_new_poly)\n",
    "\n",
    "plt.plot(X,y,'b.')\n",
    "plt.plot(X_new,y_new, 'r-', linewidth=2, label='Predictions')\n",
    "\n",
    "plt.xlabel('$x_1$',fontsize=18)\n",
    "plt.ylabel('$y$',fontsize=18, rotation=0)\n",
    "plt.legend(loc='upper left',fontsize=14)\n",
    "plt.axis([-3,3,0,10])\n",
    "save_fig('quadratic_predictions_plot')\n",
    "plt.show()"
   ]
  },
  {
   "cell_type": "markdown",
   "metadata": {},
   "source": [
    "### 小总结\n",
    "\n",
    "这里我们指定了模型是二阶的，但是一般我们是不知道指定多少阶是合适的。"
   ]
  },
  {
   "cell_type": "markdown",
   "metadata": {},
   "source": [
    "### Logistic Regression\n",
    "\n",
    "这部分过完就直接进入NN部分。NN部分的内容加起来就210pages,并不多，所以包含的内容要么很精炼，要么内容不够深入。\n",
    "\n",
    "这部分就是估计实例属于特定类的概率。\n",
    "如果有大于50%的概率，则模型判定该实例属于此类，标记为1，反之标记为0.\n",
    "\n",
    "这使得回归问题变成分类问题。\n",
    "\n",
    "#### 如何估计概率\n",
    "\n",
    "先算各个特征的加权和，然后用个函数映射到概率即可。\n",
    "\n",
    "$$\n",
    "\\hat p = h_{\\theta}(x) = \\sigma(\\theta^T\\cdot x)\n",
    "$$\n",
    "\n",
    "其中：\n",
    "\n",
    "$$\n",
    "\\sigma(t) = \\frac{1}{1 + exp(-t)}\n",
    "$$"
   ]
  },
  {
   "cell_type": "markdown",
   "metadata": {},
   "source": [
    "### 如何训练以及如何定义损失函数\n",
    "\n",
    "训练的目的是拟合$\\theta$,是的模型能够将正数实例有较大的概率，0实例有较小的概率。\n",
    "\n",
    "由此，我们可以定义损失函数为：\n",
    "\n",
    "$$\n",
    "c(\\theta) = \\begin{cases} \n",
    "-log(\\hat p)\\ if\\ y = 1, \\\\\n",
    "-log(1-\\hat p) \\ if \\ y = 0\n",
    "\\end{cases}\n",
    "$$\n",
    "\n",
    "这种分段函数可以综合成一个函数。\n",
    "\n",
    "得到在整个训练集上的损失函数是：\n",
    "\n",
    "$$\n",
    "J(\\theta) = -\\frac{1}{m}[y^{(i)} log({\\hat p}^{(i)}) + (1-y^{(i)})log(1-{\\hat p}^{(i)})]\n",
    "$$\n",
    "\n",
    "这个损失函数没有解析解，但是呢，函数本身是凸函数，所以可以用梯度下降法进行求解。"
   ]
  },
  {
   "cell_type": "markdown",
   "metadata": {},
   "source": [
    "### 第一部分并未搞定，只是草草过了一遍几个简单的算法，核心的内容还没开始。未完待续...."
   ]
  },
  {
   "cell_type": "code",
   "execution_count": null,
   "metadata": {
    "collapsed": true
   },
   "outputs": [],
   "source": []
  },
  {
   "cell_type": "code",
   "execution_count": null,
   "metadata": {
    "collapsed": true
   },
   "outputs": [],
   "source": []
  }
 ],
 "metadata": {
  "kernelspec": {
   "display_name": "Python 3",
   "language": "python",
   "name": "python3"
  },
  "language_info": {
   "codemirror_mode": {
    "name": "ipython",
    "version": 3
   },
   "file_extension": ".py",
   "mimetype": "text/x-python",
   "name": "python",
   "nbconvert_exporter": "python",
   "pygments_lexer": "ipython3",
   "version": "3.6.1"
  }
 },
 "nbformat": 4,
 "nbformat_minor": 2
}
